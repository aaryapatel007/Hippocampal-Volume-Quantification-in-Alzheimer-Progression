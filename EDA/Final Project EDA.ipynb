{
 "cells": [
  {
   "cell_type": "markdown",
   "metadata": {},
   "source": [
    "# Preparing the dataset for hippocampus segmentation\n",
    "\n",
    "In this notebook you will use the skills and methods that we have talked about during our EDA Lesson to prepare the hippocampus dataset using Python. Follow the Notebook, writing snippets of code where directed so using Task comments, similar to the one below, which expects you to put the proper imports in place. Write your code directly in the cell with TASK comment. Feel free to add cells as you see fit, but please make sure that code that performs that tasked activity sits in the same cell as the Task comment.\n"
   ]
  },
  {
   "cell_type": "code",
   "execution_count": 1,
   "metadata": {},
   "outputs": [],
   "source": [
    "# TASK: Import the following libraries that we will use: nibabel, matplotlib, numpy\n",
    "import numpy as np\n",
    "import matplotlib.pyplot as plt\n",
    "import nibabel as nib\n",
    "import os\n",
    "from glob import glob"
   ]
  },
  {
   "cell_type": "markdown",
   "metadata": {},
   "source": [
    "It will help your understanding of the data a lot if you were able to use a tool that allows you to view NIFTI volumes, like [3D Slicer](https://www.slicer.org/). I will refer to Slicer throughout this Notebook and will be pasting some images showing what your output might look like."
   ]
  },
  {
   "cell_type": "markdown",
   "metadata": {},
   "source": [
    "## Loading NIFTI images using NiBabel\n",
    "\n",
    "NiBabel is a python library for working with neuro-imaging formats (including NIFTI) that we have used in some of the exercises throughout the course. Our volumes and labels are in NIFTI format, so we will use nibabel to load and inspect them.\n",
    "\n",
    "NiBabel documentation could be found here: https://nipy.org/nibabel/\n",
    "\n",
    "Our dataset sits in two directories - *images* and *labels*. Each image is represented by a single file (we are fortunate to have our data converted to NIFTI) and has a corresponding label file which is named the same as the image file.\n",
    "\n",
    "Note that our dataset is \"dirty\". There are a few images and labels that are not quite right. They should be quite obvious to notice, though. The dataset contains an equal amount of \"correct\" volumes and corresponding labels, and you don't need to alter values of any samples in order to get the clean dataset."
   ]
  },
  {
   "cell_type": "code",
   "execution_count": 2,
   "metadata": {},
   "outputs": [],
   "source": [
    "# TASK: Your data sits in directory /data/TrainingSet.\n",
    "# Load an image and a segmentation mask into variables called image and label"
   ]
  },
  {
   "cell_type": "code",
   "execution_count": 3,
   "metadata": {},
   "outputs": [],
   "source": [
    "train_path = \"../../data/TrainingSet\"\n",
    "images = sorted(glob(os.path.join(train_path, 'images','*.nii.gz')))\n",
    "labels = sorted(glob(os.path.join(train_path, 'labels','*.nii.gz')))"
   ]
  },
  {
   "cell_type": "code",
   "execution_count": 4,
   "metadata": {},
   "outputs": [
    {
     "name": "stdout",
     "output_type": "stream",
     "text": [
      "file_name is hippocampus_001.nii.gz with volume shape (35, 51, 35).\n",
      "file_name is hippocampus_003.nii.gz with volume shape (34, 52, 35).\n",
      "file_name is hippocampus_004.nii.gz with volume shape (36, 52, 38).\n",
      "file_name is hippocampus_006.nii.gz with volume shape (35, 52, 34).\n",
      "file_name is hippocampus_007.nii.gz with volume shape (34, 47, 40).\n",
      "file_name is hippocampus_008.nii.gz with volume shape (36, 48, 40).\n",
      "file_name is hippocampus_010.nii.gz with volume shape (512, 512, 241).\n",
      "file_name is hippocampus_011.nii.gz with volume shape (36, 50, 31).\n",
      "file_name is hippocampus_014.nii.gz with volume shape (39, 50, 40).\n",
      "file_name is hippocampus_015.nii.gz with volume shape (42, 51, 28).\n",
      "file_name is hippocampus_017.nii.gz with volume shape (35, 48, 32).\n",
      "file_name is hippocampus_019.nii.gz with volume shape (36, 47, 41).\n",
      "file_name is hippocampus_020.nii.gz with volume shape (36, 46, 43).\n",
      "file_name is hippocampus_023.nii.gz with volume shape (35, 51, 35).\n",
      "file_name is hippocampus_024.nii.gz with volume shape (38, 52, 33).\n",
      "file_name is hippocampus_025.nii.gz with volume shape (35, 48, 35).\n",
      "file_name is hippocampus_026.nii.gz with volume shape (36, 50, 36).\n",
      "file_name is hippocampus_033.nii.gz with volume shape (33, 48, 38).\n",
      "file_name is hippocampus_034.nii.gz with volume shape (36, 49, 40).\n",
      "file_name is hippocampus_035.nii.gz with volume shape (35, 47, 37).\n",
      "file_name is hippocampus_036.nii.gz with volume shape (36, 47, 39).\n",
      "file_name is hippocampus_037.nii.gz with volume shape (34, 51, 32).\n",
      "file_name is hippocampus_038.nii.gz with volume shape (37, 51, 35).\n",
      "file_name is hippocampus_039.nii.gz with volume shape (34, 53, 34).\n",
      "file_name is hippocampus_040.nii.gz with volume shape (36, 52, 37).\n",
      "file_name is hippocampus_041.nii.gz with volume shape (36, 51, 34).\n",
      "file_name is hippocampus_042.nii.gz with volume shape (37, 52, 34).\n",
      "file_name is hippocampus_044.nii.gz with volume shape (38, 48, 33).\n",
      "file_name is hippocampus_045.nii.gz with volume shape (36, 48, 37).\n",
      "file_name is hippocampus_046.nii.gz with volume shape (36, 49, 38).\n",
      "file_name is hippocampus_048.nii.gz with volume shape (38, 52, 29).\n",
      "file_name is hippocampus_049.nii.gz with volume shape (35, 51, 36).\n",
      "file_name is hippocampus_050.nii.gz with volume shape (38, 49, 38).\n",
      "file_name is hippocampus_051.nii.gz with volume shape (33, 54, 39).\n",
      "file_name is hippocampus_052.nii.gz with volume shape (34, 52, 40).\n",
      "file_name is hippocampus_053.nii.gz with volume shape (37, 51, 35).\n",
      "file_name is hippocampus_056.nii.gz with volume shape (41, 47, 42).\n",
      "file_name is hippocampus_057.nii.gz with volume shape (35, 51, 34).\n",
      "file_name is hippocampus_058.nii.gz with volume shape (34, 53, 36).\n",
      "file_name is hippocampus_060.nii.gz with volume shape (39, 52, 31).\n",
      "file_name is hippocampus_064.nii.gz with volume shape (35, 53, 35).\n",
      "file_name is hippocampus_065.nii.gz with volume shape (39, 52, 37).\n",
      "file_name is hippocampus_067.nii.gz with volume shape (36, 42, 41).\n",
      "file_name is hippocampus_068.nii.gz with volume shape (36, 40, 43).\n",
      "file_name is hippocampus_070.nii.gz with volume shape (37, 50, 38).\n",
      "file_name is hippocampus_074.nii.gz with volume shape (37, 47, 42).\n",
      "file_name is hippocampus_075.nii.gz with volume shape (32, 47, 41).\n",
      "file_name is hippocampus_077.nii.gz with volume shape (35, 47, 45).\n",
      "file_name is hippocampus_083.nii.gz with volume shape (33, 52, 37).\n",
      "file_name is hippocampus_084.nii.gz with volume shape (34, 52, 37).\n",
      "file_name is hippocampus_087.nii.gz with volume shape (35, 55, 32).\n",
      "file_name is hippocampus_088.nii.gz with volume shape (40, 52, 35).\n",
      "file_name is hippocampus_089.nii.gz with volume shape (34, 51, 38).\n",
      "file_name is hippocampus_090.nii.gz with volume shape (37, 50, 40).\n",
      "file_name is hippocampus_091.nii.gz with volume shape (36, 51, 29).\n",
      "file_name is hippocampus_092.nii.gz with volume shape (38, 49, 28).\n",
      "file_name is hippocampus_093.nii.gz with volume shape (34, 53, 37).\n",
      "file_name is hippocampus_094.nii.gz with volume shape (38, 50, 38).\n",
      "file_name is hippocampus_095.nii.gz with volume shape (34, 49, 39).\n",
      "file_name is hippocampus_096.nii.gz with volume shape (34, 47, 39).\n",
      "file_name is hippocampus_097.nii.gz with volume shape (37, 48, 34).\n",
      "file_name is hippocampus_098.nii.gz with volume shape (37, 48, 34).\n",
      "file_name is hippocampus_099.nii.gz with volume shape (33, 52, 27).\n",
      "file_name is hippocampus_101.nii.gz with volume shape (36, 52, 32).\n",
      "file_name is hippocampus_102.nii.gz with volume shape (36, 55, 32).\n",
      "file_name is hippocampus_104.nii.gz with volume shape (35, 53, 39).\n",
      "file_name is hippocampus_105.nii.gz with volume shape (33, 47, 37).\n",
      "file_name is hippocampus_106.nii.gz with volume shape (34, 46, 38).\n",
      "file_name is hippocampus_107.nii.gz with volume shape (35, 55, 34).\n",
      "file_name is hippocampus_108.nii.gz with volume shape (36, 53, 37).\n",
      "file_name is hippocampus_109.nii.gz with volume shape (36, 49, 36).\n",
      "file_name is hippocampus_114.nii.gz with volume shape (38, 50, 39).\n",
      "file_name is hippocampus_118.nii.gz with volume shape (37, 52, 33).\n",
      "file_name is hippocampus_123.nii.gz with volume shape (32, 53, 38).\n",
      "file_name is hippocampus_124.nii.gz with volume shape (35, 55, 41).\n",
      "file_name is hippocampus_125.nii.gz with volume shape (43, 42, 39).\n",
      "file_name is hippocampus_126.nii.gz with volume shape (39, 44, 43).\n",
      "file_name is hippocampus_127.nii.gz with volume shape (38, 55, 31).\n",
      "file_name is hippocampus_130.nii.gz with volume shape (35, 49, 40).\n",
      "file_name is hippocampus_132.nii.gz with volume shape (36, 50, 40).\n",
      "file_name is hippocampus_133.nii.gz with volume shape (39, 41, 42).\n",
      "file_name is hippocampus_135.nii.gz with volume shape (32, 49, 38).\n",
      "file_name is hippocampus_136.nii.gz with volume shape (34, 49, 41).\n",
      "file_name is hippocampus_138.nii.gz with volume shape (32, 46, 42).\n",
      "file_name is hippocampus_141.nii.gz with volume shape (33, 44, 42).\n",
      "file_name is hippocampus_142.nii.gz with volume shape (38, 43, 41).\n",
      "file_name is hippocampus_143.nii.gz with volume shape (32, 45, 41).\n",
      "file_name is hippocampus_144.nii.gz with volume shape (34, 45, 43).\n",
      "file_name is hippocampus_145.nii.gz with volume shape (36, 53, 33).\n",
      "file_name is hippocampus_146.nii.gz with volume shape (36, 51, 32).\n",
      "file_name is hippocampus_148.nii.gz with volume shape (34, 48, 32).\n",
      "file_name is hippocampus_149.nii.gz with volume shape (33, 49, 32).\n",
      "file_name is hippocampus_150.nii.gz with volume shape (37, 49, 34).\n",
      "file_name is hippocampus_152.nii.gz with volume shape (36, 53, 37).\n",
      "file_name is hippocampus_154.nii.gz with volume shape (35, 46, 42).\n",
      "file_name is hippocampus_155.nii.gz with volume shape (34, 53, 37).\n",
      "file_name is hippocampus_156.nii.gz with volume shape (36, 52, 36).\n",
      "file_name is hippocampus_157.nii.gz with volume shape (36, 51, 35).\n",
      "file_name is hippocampus_158.nii.gz with volume shape (38, 52, 36).\n",
      "file_name is hippocampus_160.nii.gz with volume shape (34, 51, 26).\n",
      "file_name is hippocampus_161.nii.gz with volume shape (35, 51, 36).\n",
      "file_name is hippocampus_162.nii.gz with volume shape (38, 51, 37).\n",
      "file_name is hippocampus_163.nii.gz with volume shape (36, 47, 44).\n",
      "file_name is hippocampus_164.nii.gz with volume shape (41, 48, 47).\n",
      "file_name is hippocampus_165.nii.gz with volume shape (34, 49, 29).\n",
      "file_name is hippocampus_166.nii.gz with volume shape (36, 49, 31).\n",
      "file_name is hippocampus_169.nii.gz with volume shape (36, 45, 39).\n",
      "file_name is hippocampus_170.nii.gz with volume shape (34, 48, 40).\n",
      "file_name is hippocampus_171.nii.gz with volume shape (35, 56, 28).\n",
      "file_name is hippocampus_172.nii.gz with volume shape (34, 56, 31).\n",
      "file_name is hippocampus_173.nii.gz with volume shape (35, 53, 32).\n",
      "file_name is hippocampus_174.nii.gz with volume shape (37, 55, 34).\n",
      "file_name is hippocampus_175.nii.gz with volume shape (33, 47, 35).\n",
      "file_name is hippocampus_176.nii.gz with volume shape (35, 50, 36).\n",
      "file_name is hippocampus_177.nii.gz with volume shape (33, 44, 40).\n",
      "file_name is hippocampus_178.nii.gz with volume shape (35, 44, 41).\n",
      "file_name is hippocampus_180.nii.gz with volume shape (37, 45, 36).\n",
      "file_name is hippocampus_181.nii.gz with volume shape (33, 49, 40).\n",
      "file_name is hippocampus_184.nii.gz with volume shape (37, 51, 33).\n",
      "file_name is hippocampus_185.nii.gz with volume shape (35, 49, 33).\n",
      "file_name is hippocampus_188.nii.gz with volume shape (37, 54, 36).\n",
      "file_name is hippocampus_189.nii.gz with volume shape (35, 53, 30).\n",
      "file_name is hippocampus_190.nii.gz with volume shape (37, 52, 30).\n",
      "file_name is hippocampus_193.nii.gz with volume shape (33, 50, 29).\n",
      "file_name is hippocampus_194.nii.gz with volume shape (35, 50, 30).\n",
      "file_name is hippocampus_195.nii.gz with volume shape (33, 53, 28).\n",
      "file_name is hippocampus_197.nii.gz with volume shape (38, 51, 31).\n",
      "file_name is hippocampus_199.nii.gz with volume shape (37, 52, 26).\n",
      "file_name is hippocampus_203.nii.gz with volume shape (34, 49, 38).\n",
      "file_name is hippocampus_204.nii.gz with volume shape (36, 48, 39).\n",
      "file_name is hippocampus_205.nii.gz with volume shape (32, 47, 32).\n",
      "file_name is hippocampus_207.nii.gz with volume shape (35, 53, 33).\n",
      "file_name is hippocampus_210.nii.gz with volume shape (34, 48, 40).\n",
      "file_name is hippocampus_212.nii.gz with volume shape (35, 56, 34).\n",
      "file_name is hippocampus_215.nii.gz with volume shape (35, 49, 33).\n",
      "file_name is hippocampus_216.nii.gz with volume shape (32, 49, 36).\n",
      "file_name is hippocampus_217.nii.gz with volume shape (38, 53, 27).\n",
      "file_name is hippocampus_219.nii.gz with volume shape (37, 45, 39).\n",
      "file_name is hippocampus_220.nii.gz with volume shape (39, 45, 40).\n",
      "file_name is hippocampus_221.nii.gz with volume shape (32, 48, 34).\n",
      "file_name is hippocampus_222.nii.gz with volume shape (34, 49, 36).\n",
      "file_name is hippocampus_223.nii.gz with volume shape (35, 52, 37).\n",
      "file_name is hippocampus_224.nii.gz with volume shape (37, 48, 37).\n",
      "file_name is hippocampus_225.nii.gz with volume shape (33, 53, 26).\n",
      "file_name is hippocampus_226.nii.gz with volume shape (32, 51, 28).\n",
      "file_name is hippocampus_227.nii.gz with volume shape (36, 47, 36).\n",
      "file_name is hippocampus_228.nii.gz with volume shape (37, 48, 36).\n",
      "file_name is hippocampus_229.nii.gz with volume shape (33, 50, 35).\n",
      "file_name is hippocampus_230.nii.gz with volume shape (34, 49, 37).\n",
      "file_name is hippocampus_231.nii.gz with volume shape (33, 47, 42).\n",
      "file_name is hippocampus_232.nii.gz with volume shape (36, 44, 43).\n"
     ]
    },
    {
     "name": "stdout",
     "output_type": "stream",
     "text": [
      "file_name is hippocampus_233.nii.gz with volume shape (33, 51, 37).\n",
      "file_name is hippocampus_234.nii.gz with volume shape (38, 49, 36).\n",
      "file_name is hippocampus_235.nii.gz with volume shape (37, 58, 35).\n",
      "file_name is hippocampus_236.nii.gz with volume shape (37, 57, 35).\n",
      "file_name is hippocampus_238.nii.gz with volume shape (37, 56, 36).\n",
      "file_name is hippocampus_242.nii.gz with volume shape (38, 52, 34).\n",
      "file_name is hippocampus_243.nii.gz with volume shape (34, 53, 24).\n",
      "file_name is hippocampus_244.nii.gz with volume shape (38, 53, 30).\n",
      "file_name is hippocampus_245.nii.gz with volume shape (35, 48, 42).\n",
      "file_name is hippocampus_248.nii.gz with volume shape (36, 50, 38).\n",
      "file_name is hippocampus_249.nii.gz with volume shape (32, 52, 34).\n",
      "file_name is hippocampus_250.nii.gz with volume shape (35, 51, 36).\n",
      "file_name is hippocampus_251.nii.gz with volume shape (36, 58, 28).\n",
      "file_name is hippocampus_252.nii.gz with volume shape (37, 55, 26).\n",
      "file_name is hippocampus_253.nii.gz with volume shape (34, 51, 31).\n",
      "file_name is hippocampus_257.nii.gz with volume shape (34, 51, 33).\n",
      "file_name is hippocampus_259.nii.gz with volume shape (33, 51, 28).\n",
      "file_name is hippocampus_260.nii.gz with volume shape (35, 53, 29).\n",
      "file_name is hippocampus_261.nii.gz with volume shape (36, 58, 33).\n",
      "file_name is hippocampus_263.nii.gz with volume shape (36, 51, 35).\n",
      "file_name is hippocampus_264.nii.gz with volume shape (38, 51, 37).\n",
      "file_name is hippocampus_265.nii.gz with volume shape (31, 54, 34).\n",
      "file_name is hippocampus_268.nii.gz with volume shape (34, 51, 37).\n",
      "file_name is hippocampus_269.nii.gz with volume shape (35, 49, 37).\n",
      "file_name is hippocampus_274.nii.gz with volume shape (35, 40, 40).\n",
      "file_name is hippocampus_276.nii.gz with volume shape (35, 50, 33).\n",
      "file_name is hippocampus_277.nii.gz with volume shape (33, 59, 29).\n",
      "file_name is hippocampus_279.nii.gz with volume shape (34, 50, 32).\n",
      "file_name is hippocampus_280.nii.gz with volume shape (37, 47, 32).\n",
      "file_name is hippocampus_281.nii.gz with volume shape (512, 512, 31).\n",
      "file_name is hippocampus_282.nii.gz with volume shape (37, 52, 32).\n",
      "file_name is hippocampus_286.nii.gz with volume shape (37, 45, 46).\n",
      "file_name is hippocampus_287.nii.gz with volume shape (37, 50, 39).\n",
      "file_name is hippocampus_288.nii.gz with volume shape (38, 50, 42).\n",
      "file_name is hippocampus_289.nii.gz with volume shape (35, 49, 36).\n",
      "file_name is hippocampus_290.nii.gz with volume shape (35, 49, 40).\n",
      "file_name is hippocampus_292.nii.gz with volume shape (38, 52, 33).\n",
      "file_name is hippocampus_294.nii.gz with volume shape (35, 44, 44).\n",
      "file_name is hippocampus_295.nii.gz with volume shape (35, 53, 36).\n",
      "file_name is hippocampus_296.nii.gz with volume shape (35, 54, 35).\n",
      "file_name is hippocampus_297.nii.gz with volume shape (34, 51, 30).\n",
      "file_name is hippocampus_298.nii.gz with volume shape (37, 50, 33).\n",
      "file_name is hippocampus_299.nii.gz with volume shape (32, 54, 34).\n",
      "file_name is hippocampus_300.nii.gz with volume shape (34, 53, 35).\n",
      "file_name is hippocampus_301.nii.gz with volume shape (31, 50, 36).\n",
      "file_name is hippocampus_302.nii.gz with volume shape (35, 46, 39).\n",
      "file_name is hippocampus_303.nii.gz with volume shape (35, 48, 38).\n",
      "file_name is hippocampus_304.nii.gz with volume shape (36, 48, 38).\n",
      "file_name is hippocampus_305.nii.gz with volume shape (34, 49, 30).\n",
      "file_name is hippocampus_308.nii.gz with volume shape (38, 48, 40).\n",
      "file_name is hippocampus_309.nii.gz with volume shape (34, 52, 38).\n",
      "file_name is hippocampus_310.nii.gz with volume shape (35, 52, 38).\n",
      "file_name is hippocampus_311.nii.gz with volume shape (37, 49, 37).\n",
      "file_name is hippocampus_314.nii.gz with volume shape (37, 53, 33).\n",
      "file_name is hippocampus_316.nii.gz with volume shape (37, 51, 33).\n",
      "file_name is hippocampus_317.nii.gz with volume shape (33, 51, 34).\n",
      "file_name is hippocampus_318.nii.gz with volume shape (37, 51, 33).\n",
      "file_name is hippocampus_319.nii.gz with volume shape (33, 48, 34).\n",
      "file_name is hippocampus_320.nii.gz with volume shape (33, 47, 34).\n",
      "file_name is hippocampus_321.nii.gz with volume shape (34, 46, 34).\n",
      "file_name is hippocampus_322.nii.gz with volume shape (38, 47, 37).\n",
      "file_name is hippocampus_325.nii.gz with volume shape (35, 51, 40).\n",
      "file_name is hippocampus_326.nii.gz with volume shape (36, 49, 41).\n",
      "file_name is hippocampus_327.nii.gz with volume shape (36, 54, 27).\n",
      "file_name is hippocampus_328.nii.gz with volume shape (38, 54, 30).\n",
      "file_name is hippocampus_329.nii.gz with volume shape (34, 53, 32).\n",
      "file_name is hippocampus_330.nii.gz with volume shape (35, 55, 33).\n",
      "file_name is hippocampus_331.nii.gz with volume shape (35, 52, 33).\n",
      "file_name is hippocampus_332.nii.gz with volume shape (35, 52, 33).\n",
      "file_name is hippocampus_333.nii.gz with volume shape (33, 46, 38).\n",
      "file_name is hippocampus_334.nii.gz with volume shape (34, 47, 36).\n",
      "file_name is hippocampus_335.nii.gz with volume shape (32, 47, 41).\n",
      "file_name is hippocampus_336.nii.gz with volume shape (34, 47, 43).\n",
      "file_name is hippocampus_337.nii.gz with volume shape (33, 44, 41).\n",
      "file_name is hippocampus_338.nii.gz with volume shape (37, 43, 43).\n",
      "file_name is hippocampus_340.nii.gz with volume shape (35, 46, 38).\n",
      "file_name is hippocampus_341.nii.gz with volume shape (34, 48, 35).\n",
      "file_name is hippocampus_343.nii.gz with volume shape (32, 45, 38).\n",
      "file_name is hippocampus_345.nii.gz with volume shape (32, 49, 30).\n",
      "file_name is hippocampus_349.nii.gz with volume shape (34, 50, 34).\n",
      "file_name is hippocampus_350.nii.gz with volume shape (35, 49, 34).\n",
      "file_name is hippocampus_351.nii.gz with volume shape (35, 51, 35).\n",
      "file_name is hippocampus_352.nii.gz with volume shape (38, 51, 35).\n",
      "file_name is hippocampus_353.nii.gz with volume shape (32, 51, 31).\n",
      "file_name is hippocampus_354.nii.gz with volume shape (36, 50, 32).\n",
      "file_name is hippocampus_355.nii.gz with volume shape (33, 47, 38).\n",
      "file_name is hippocampus_356.nii.gz with volume shape (36, 51, 37).\n",
      "file_name is hippocampus_358.nii.gz with volume shape (35, 50, 34).\n",
      "file_name is hippocampus_359.nii.gz with volume shape (35, 49, 35).\n",
      "file_name is hippocampus_360.nii.gz with volume shape (34, 49, 37).\n",
      "file_name is hippocampus_361.nii.gz with volume shape (36, 50, 33).\n",
      "file_name is hippocampus_363.nii.gz with volume shape (38, 52, 35).\n",
      "file_name is hippocampus_366.nii.gz with volume shape (37, 47, 34).\n",
      "file_name is hippocampus_367.nii.gz with volume shape (36, 57, 37).\n",
      "file_name is hippocampus_368.nii.gz with volume shape (38, 55, 40).\n",
      "file_name is hippocampus_370.nii.gz with volume shape (35, 50, 36).\n",
      "file_name is hippocampus_372.nii.gz with volume shape (36, 50, 34).\n",
      "file_name is hippocampus_373.nii.gz with volume shape (34, 49, 35).\n",
      "file_name is hippocampus_374.nii.gz with volume shape (38, 48, 39).\n",
      "file_name is hippocampus_375.nii.gz with volume shape (32, 54, 34).\n",
      "file_name is hippocampus_376.nii.gz with volume shape (35, 55, 37).\n",
      "file_name is hippocampus_378.nii.gz with volume shape (35, 52, 34).\n",
      "file_name is hippocampus_380.nii.gz with volume shape (35, 46, 42).\n",
      "file_name is hippocampus_381.nii.gz with volume shape (33, 49, 37).\n",
      "file_name is hippocampus_383.nii.gz with volume shape (33, 55, 29).\n",
      "file_name is hippocampus_385.nii.gz with volume shape (35, 48, 40).\n",
      "file_name is hippocampus_386.nii.gz with volume shape (37, 45, 40).\n",
      "file_name is hippocampus_387.nii.gz with volume shape (33, 51, 32).\n",
      "file_name is hippocampus_389.nii.gz with volume shape (34, 49, 32).\n",
      "file_name is hippocampus_390.nii.gz with volume shape (38, 51, 33).\n",
      "file_name is hippocampus_393.nii.gz with volume shape (36, 51, 31).\n",
      "file_name is hippocampus_394.nii.gz with volume shape (36, 52, 32).\n"
     ]
    }
   ],
   "source": [
    "sum_shape = []\n",
    "for i in range(len(images)):\n",
    "    print(f\"file_name is {images[i].split('/')[-1]} with volume shape {nib.load(images[i]).get_fdata().shape}.\")\n",
    "    sum_shape.append(np.sum(nib.load(images[i]).get_fdata().shape))"
   ]
  },
  {
   "cell_type": "code",
   "execution_count": 5,
   "metadata": {},
   "outputs": [
    {
     "name": "stdout",
     "output_type": "stream",
     "text": [
      "file_name is hippocampus_001.nii.gz with volume shape (35, 51, 35).\n",
      "file_name is hippocampus_003.nii.gz with volume shape (34, 52, 35).\n",
      "file_name is hippocampus_004.nii.gz with volume shape (36, 52, 38).\n",
      "file_name is hippocampus_006.nii.gz with volume shape (35, 52, 34).\n",
      "file_name is hippocampus_007.nii.gz with volume shape (34, 47, 40).\n",
      "file_name is hippocampus_008.nii.gz with volume shape (36, 48, 40).\n",
      "file_name is hippocampus_010.nii.gz with volume shape (36, 50, 31).\n",
      "file_name is hippocampus_011.nii.gz with volume shape (36, 50, 31).\n",
      "file_name is hippocampus_014.nii.gz with volume shape (39, 50, 40).\n",
      "file_name is hippocampus_015.nii.gz with volume shape (42, 51, 28).\n",
      "file_name is hippocampus_017.nii.gz with volume shape (35, 48, 32).\n",
      "file_name is hippocampus_019.nii.gz with volume shape (36, 47, 41).\n",
      "file_name is hippocampus_020.nii.gz with volume shape (36, 46, 43).\n",
      "file_name is hippocampus_023.nii.gz with volume shape (35, 51, 35).\n",
      "file_name is hippocampus_024.nii.gz with volume shape (38, 52, 33).\n",
      "file_name is hippocampus_025.nii.gz with volume shape (35, 48, 35).\n",
      "file_name is hippocampus_026.nii.gz with volume shape (36, 50, 36).\n",
      "file_name is hippocampus_033.nii.gz with volume shape (33, 48, 38).\n",
      "file_name is hippocampus_034.nii.gz with volume shape (36, 49, 40).\n",
      "file_name is hippocampus_035.nii.gz with volume shape (35, 47, 37).\n",
      "file_name is hippocampus_036.nii.gz with volume shape (36, 47, 39).\n",
      "file_name is hippocampus_037.nii.gz with volume shape (34, 51, 32).\n",
      "file_name is hippocampus_038.nii.gz with volume shape (37, 51, 35).\n",
      "file_name is hippocampus_039.nii.gz with volume shape (34, 53, 34).\n",
      "file_name is hippocampus_040.nii.gz with volume shape (36, 52, 37).\n",
      "file_name is hippocampus_041.nii.gz with volume shape (36, 51, 34).\n",
      "file_name is hippocampus_042.nii.gz with volume shape (37, 52, 34).\n",
      "file_name is hippocampus_044.nii.gz with volume shape (38, 48, 33).\n",
      "file_name is hippocampus_045.nii.gz with volume shape (36, 48, 37).\n",
      "file_name is hippocampus_046.nii.gz with volume shape (36, 49, 38).\n",
      "file_name is hippocampus_048.nii.gz with volume shape (38, 52, 29).\n",
      "file_name is hippocampus_049.nii.gz with volume shape (35, 51, 36).\n",
      "file_name is hippocampus_050.nii.gz with volume shape (38, 49, 38).\n",
      "file_name is hippocampus_051.nii.gz with volume shape (33, 54, 39).\n",
      "file_name is hippocampus_052.nii.gz with volume shape (34, 52, 40).\n",
      "file_name is hippocampus_053.nii.gz with volume shape (37, 51, 35).\n",
      "file_name is hippocampus_056.nii.gz with volume shape (41, 47, 42).\n",
      "file_name is hippocampus_057.nii.gz with volume shape (35, 51, 34).\n",
      "file_name is hippocampus_058.nii.gz with volume shape (34, 53, 36).\n",
      "file_name is hippocampus_060.nii.gz with volume shape (39, 52, 31).\n",
      "file_name is hippocampus_064.nii.gz with volume shape (35, 53, 35).\n",
      "file_name is hippocampus_065.nii.gz with volume shape (39, 52, 37).\n",
      "file_name is hippocampus_067.nii.gz with volume shape (36, 42, 41).\n",
      "file_name is hippocampus_068.nii.gz with volume shape (36, 40, 43).\n",
      "file_name is hippocampus_070.nii.gz with volume shape (37, 50, 38).\n",
      "file_name is hippocampus_074.nii.gz with volume shape (37, 47, 42).\n",
      "file_name is hippocampus_075.nii.gz with volume shape (32, 47, 41).\n",
      "file_name is hippocampus_077.nii.gz with volume shape (35, 47, 45).\n",
      "file_name is hippocampus_083.nii.gz with volume shape (33, 52, 37).\n",
      "file_name is hippocampus_084.nii.gz with volume shape (34, 52, 37).\n",
      "file_name is hippocampus_087.nii.gz with volume shape (35, 55, 32).\n",
      "file_name is hippocampus_088.nii.gz with volume shape (40, 52, 35).\n",
      "file_name is hippocampus_089.nii.gz with volume shape (34, 51, 38).\n",
      "file_name is hippocampus_090.nii.gz with volume shape (37, 50, 40).\n",
      "file_name is hippocampus_091.nii.gz with volume shape (36, 51, 29).\n",
      "file_name is hippocampus_092.nii.gz with volume shape (38, 49, 28).\n",
      "file_name is hippocampus_093.nii.gz with volume shape (34, 53, 37).\n",
      "file_name is hippocampus_094.nii.gz with volume shape (38, 50, 38).\n",
      "file_name is hippocampus_095.nii.gz with volume shape (34, 49, 39).\n",
      "file_name is hippocampus_096.nii.gz with volume shape (34, 47, 39).\n",
      "file_name is hippocampus_097.nii.gz with volume shape (37, 48, 34).\n",
      "file_name is hippocampus_098.nii.gz with volume shape (37, 48, 34).\n",
      "file_name is hippocampus_099.nii.gz with volume shape (33, 52, 27).\n",
      "file_name is hippocampus_101.nii.gz with volume shape (36, 52, 32).\n",
      "file_name is hippocampus_102.nii.gz with volume shape (36, 55, 32).\n",
      "file_name is hippocampus_104.nii.gz with volume shape (35, 53, 39).\n",
      "file_name is hippocampus_105.nii.gz with volume shape (33, 47, 37).\n",
      "file_name is hippocampus_106.nii.gz with volume shape (34, 46, 38).\n",
      "file_name is hippocampus_107.nii.gz with volume shape (35, 55, 34).\n",
      "file_name is hippocampus_108.nii.gz with volume shape (36, 53, 37).\n",
      "file_name is hippocampus_109.nii.gz with volume shape (36, 49, 36).\n",
      "file_name is hippocampus_114.nii.gz with volume shape (38, 50, 39).\n",
      "file_name is hippocampus_123.nii.gz with volume shape (32, 53, 38).\n",
      "file_name is hippocampus_124.nii.gz with volume shape (35, 55, 41).\n",
      "file_name is hippocampus_125.nii.gz with volume shape (43, 42, 39).\n",
      "file_name is hippocampus_126.nii.gz with volume shape (39, 44, 43).\n",
      "file_name is hippocampus_127.nii.gz with volume shape (38, 55, 31).\n",
      "file_name is hippocampus_130.nii.gz with volume shape (35, 49, 40).\n",
      "file_name is hippocampus_132.nii.gz with volume shape (36, 50, 40).\n",
      "file_name is hippocampus_133.nii.gz with volume shape (39, 41, 42).\n",
      "file_name is hippocampus_135.nii.gz with volume shape (32, 49, 38).\n",
      "file_name is hippocampus_136.nii.gz with volume shape (34, 49, 41).\n",
      "file_name is hippocampus_138.nii.gz with volume shape (32, 46, 42).\n",
      "file_name is hippocampus_141.nii.gz with volume shape (33, 44, 42).\n",
      "file_name is hippocampus_142.nii.gz with volume shape (38, 43, 41).\n",
      "file_name is hippocampus_143.nii.gz with volume shape (32, 45, 41).\n",
      "file_name is hippocampus_144.nii.gz with volume shape (34, 45, 43).\n",
      "file_name is hippocampus_145.nii.gz with volume shape (36, 53, 33).\n",
      "file_name is hippocampus_146.nii.gz with volume shape (36, 51, 32).\n",
      "file_name is hippocampus_148.nii.gz with volume shape (34, 48, 32).\n",
      "file_name is hippocampus_149.nii.gz with volume shape (33, 49, 32).\n",
      "file_name is hippocampus_150.nii.gz with volume shape (37, 49, 34).\n",
      "file_name is hippocampus_152.nii.gz with volume shape (36, 53, 37).\n",
      "file_name is hippocampus_154.nii.gz with volume shape (35, 46, 42).\n",
      "file_name is hippocampus_155.nii.gz with volume shape (34, 53, 37).\n",
      "file_name is hippocampus_156.nii.gz with volume shape (36, 52, 36).\n",
      "file_name is hippocampus_157.nii.gz with volume shape (36, 51, 35).\n",
      "file_name is hippocampus_158.nii.gz with volume shape (38, 52, 36).\n",
      "file_name is hippocampus_160.nii.gz with volume shape (34, 51, 26).\n",
      "file_name is hippocampus_161.nii.gz with volume shape (35, 51, 36).\n",
      "file_name is hippocampus_162.nii.gz with volume shape (38, 51, 37).\n",
      "file_name is hippocampus_163.nii.gz with volume shape (36, 47, 44).\n",
      "file_name is hippocampus_164.nii.gz with volume shape (41, 48, 47).\n",
      "file_name is hippocampus_165.nii.gz with volume shape (34, 49, 29).\n",
      "file_name is hippocampus_166.nii.gz with volume shape (36, 49, 31).\n",
      "file_name is hippocampus_169.nii.gz with volume shape (36, 45, 39).\n",
      "file_name is hippocampus_170.nii.gz with volume shape (34, 48, 40).\n",
      "file_name is hippocampus_171.nii.gz with volume shape (35, 56, 28).\n",
      "file_name is hippocampus_172.nii.gz with volume shape (34, 56, 31).\n",
      "file_name is hippocampus_173.nii.gz with volume shape (35, 53, 32).\n",
      "file_name is hippocampus_174.nii.gz with volume shape (37, 55, 34).\n",
      "file_name is hippocampus_175.nii.gz with volume shape (33, 47, 35).\n",
      "file_name is hippocampus_176.nii.gz with volume shape (35, 50, 36).\n",
      "file_name is hippocampus_177.nii.gz with volume shape (33, 44, 40).\n",
      "file_name is hippocampus_178.nii.gz with volume shape (35, 44, 41).\n",
      "file_name is hippocampus_180.nii.gz with volume shape (37, 45, 36).\n",
      "file_name is hippocampus_181.nii.gz with volume shape (33, 49, 40).\n",
      "file_name is hippocampus_184.nii.gz with volume shape (37, 51, 33).\n",
      "file_name is hippocampus_185.nii.gz with volume shape (35, 49, 33).\n",
      "file_name is hippocampus_188.nii.gz with volume shape (37, 54, 36).\n",
      "file_name is hippocampus_189.nii.gz with volume shape (35, 53, 30).\n",
      "file_name is hippocampus_190.nii.gz with volume shape (37, 52, 30).\n",
      "file_name is hippocampus_193.nii.gz with volume shape (33, 50, 29).\n",
      "file_name is hippocampus_194.nii.gz with volume shape (35, 50, 30).\n",
      "file_name is hippocampus_195.nii.gz with volume shape (33, 53, 28).\n",
      "file_name is hippocampus_197.nii.gz with volume shape (38, 51, 31).\n",
      "file_name is hippocampus_199.nii.gz with volume shape (37, 52, 26).\n",
      "file_name is hippocampus_203.nii.gz with volume shape (34, 49, 38).\n",
      "file_name is hippocampus_204.nii.gz with volume shape (36, 48, 39).\n",
      "file_name is hippocampus_205.nii.gz with volume shape (32, 47, 32).\n",
      "file_name is hippocampus_207.nii.gz with volume shape (35, 53, 33).\n",
      "file_name is hippocampus_210.nii.gz with volume shape (34, 48, 40).\n",
      "file_name is hippocampus_212.nii.gz with volume shape (35, 56, 34).\n",
      "file_name is hippocampus_215.nii.gz with volume shape (35, 49, 33).\n",
      "file_name is hippocampus_216.nii.gz with volume shape (32, 49, 36).\n",
      "file_name is hippocampus_217.nii.gz with volume shape (38, 53, 27).\n",
      "file_name is hippocampus_219.nii.gz with volume shape (37, 45, 39).\n",
      "file_name is hippocampus_220.nii.gz with volume shape (39, 45, 40).\n",
      "file_name is hippocampus_221.nii.gz with volume shape (32, 48, 34).\n",
      "file_name is hippocampus_222.nii.gz with volume shape (34, 49, 36).\n",
      "file_name is hippocampus_223.nii.gz with volume shape (35, 52, 37).\n",
      "file_name is hippocampus_224.nii.gz with volume shape (37, 48, 37).\n"
     ]
    },
    {
     "name": "stdout",
     "output_type": "stream",
     "text": [
      "file_name is hippocampus_225.nii.gz with volume shape (33, 53, 26).\n",
      "file_name is hippocampus_226.nii.gz with volume shape (32, 51, 28).\n",
      "file_name is hippocampus_227.nii.gz with volume shape (36, 47, 36).\n",
      "file_name is hippocampus_228.nii.gz with volume shape (37, 48, 36).\n",
      "file_name is hippocampus_229.nii.gz with volume shape (33, 50, 35).\n",
      "file_name is hippocampus_230.nii.gz with volume shape (34, 49, 37).\n",
      "file_name is hippocampus_231.nii.gz with volume shape (33, 47, 42).\n",
      "file_name is hippocampus_232.nii.gz with volume shape (36, 44, 43).\n",
      "file_name is hippocampus_233.nii.gz with volume shape (33, 51, 37).\n",
      "file_name is hippocampus_234.nii.gz with volume shape (38, 49, 36).\n",
      "file_name is hippocampus_235.nii.gz with volume shape (37, 58, 35).\n",
      "file_name is hippocampus_236.nii.gz with volume shape (37, 57, 35).\n",
      "file_name is hippocampus_238.nii.gz with volume shape (37, 56, 36).\n",
      "file_name is hippocampus_242.nii.gz with volume shape (38, 52, 34).\n",
      "file_name is hippocampus_243.nii.gz with volume shape (34, 53, 24).\n",
      "file_name is hippocampus_244.nii.gz with volume shape (38, 53, 30).\n",
      "file_name is hippocampus_245.nii.gz with volume shape (35, 48, 42).\n",
      "file_name is hippocampus_248.nii.gz with volume shape (36, 50, 38).\n",
      "file_name is hippocampus_249.nii.gz with volume shape (32, 52, 34).\n",
      "file_name is hippocampus_250.nii.gz with volume shape (35, 51, 36).\n",
      "file_name is hippocampus_251.nii.gz with volume shape (36, 58, 28).\n",
      "file_name is hippocampus_252.nii.gz with volume shape (37, 55, 26).\n",
      "file_name is hippocampus_253.nii.gz with volume shape (34, 51, 31).\n",
      "file_name is hippocampus_257.nii.gz with volume shape (34, 51, 33).\n",
      "file_name is hippocampus_259.nii.gz with volume shape (33, 51, 28).\n",
      "file_name is hippocampus_260.nii.gz with volume shape (35, 53, 29).\n",
      "file_name is hippocampus_261.nii.gz with volume shape (36, 58, 33).\n",
      "file_name is hippocampus_263.nii.gz with volume shape (36, 51, 35).\n",
      "file_name is hippocampus_264.nii.gz with volume shape (38, 51, 37).\n",
      "file_name is hippocampus_265.nii.gz with volume shape (31, 54, 34).\n",
      "file_name is hippocampus_268.nii.gz with volume shape (34, 51, 37).\n",
      "file_name is hippocampus_269.nii.gz with volume shape (35, 49, 37).\n",
      "file_name is hippocampus_274.nii.gz with volume shape (35, 40, 40).\n",
      "file_name is hippocampus_276.nii.gz with volume shape (35, 50, 33).\n",
      "file_name is hippocampus_277.nii.gz with volume shape (33, 59, 29).\n",
      "file_name is hippocampus_279.nii.gz with volume shape (34, 50, 32).\n",
      "file_name is hippocampus_280.nii.gz with volume shape (37, 47, 32).\n",
      "file_name is hippocampus_281.nii.gz with volume shape (512, 512, 94).\n",
      "file_name is hippocampus_282.nii.gz with volume shape (37, 52, 32).\n",
      "file_name is hippocampus_286.nii.gz with volume shape (37, 45, 46).\n",
      "file_name is hippocampus_287.nii.gz with volume shape (37, 50, 39).\n",
      "file_name is hippocampus_288.nii.gz with volume shape (38, 50, 42).\n",
      "file_name is hippocampus_289.nii.gz with volume shape (35, 49, 36).\n",
      "file_name is hippocampus_290.nii.gz with volume shape (35, 49, 40).\n",
      "file_name is hippocampus_292.nii.gz with volume shape (38, 52, 33).\n",
      "file_name is hippocampus_294.nii.gz with volume shape (35, 44, 44).\n",
      "file_name is hippocampus_295.nii.gz with volume shape (35, 53, 36).\n",
      "file_name is hippocampus_296.nii.gz with volume shape (35, 54, 35).\n",
      "file_name is hippocampus_297.nii.gz with volume shape (34, 51, 30).\n",
      "file_name is hippocampus_298.nii.gz with volume shape (37, 50, 33).\n",
      "file_name is hippocampus_299.nii.gz with volume shape (32, 54, 34).\n",
      "file_name is hippocampus_300.nii.gz with volume shape (34, 53, 35).\n",
      "file_name is hippocampus_301.nii.gz with volume shape (31, 50, 36).\n",
      "file_name is hippocampus_302.nii.gz with volume shape (35, 46, 39).\n",
      "file_name is hippocampus_303.nii.gz with volume shape (35, 48, 38).\n",
      "file_name is hippocampus_304.nii.gz with volume shape (36, 48, 38).\n",
      "file_name is hippocampus_305.nii.gz with volume shape (34, 49, 30).\n",
      "file_name is hippocampus_308.nii.gz with volume shape (38, 48, 40).\n",
      "file_name is hippocampus_309.nii.gz with volume shape (34, 52, 38).\n",
      "file_name is hippocampus_310.nii.gz with volume shape (35, 52, 38).\n",
      "file_name is hippocampus_311.nii.gz with volume shape (37, 49, 37).\n",
      "file_name is hippocampus_314.nii.gz with volume shape (37, 53, 33).\n",
      "file_name is hippocampus_316.nii.gz with volume shape (37, 51, 33).\n",
      "file_name is hippocampus_317.nii.gz with volume shape (33, 51, 34).\n",
      "file_name is hippocampus_318.nii.gz with volume shape (37, 51, 33).\n",
      "file_name is hippocampus_319.nii.gz with volume shape (33, 48, 34).\n",
      "file_name is hippocampus_320.nii.gz with volume shape (33, 47, 34).\n",
      "file_name is hippocampus_321.nii.gz with volume shape (34, 46, 34).\n",
      "file_name is hippocampus_322.nii.gz with volume shape (38, 47, 37).\n",
      "file_name is hippocampus_325.nii.gz with volume shape (35, 51, 40).\n",
      "file_name is hippocampus_326.nii.gz with volume shape (36, 49, 41).\n",
      "file_name is hippocampus_327.nii.gz with volume shape (36, 54, 27).\n",
      "file_name is hippocampus_328.nii.gz with volume shape (38, 54, 30).\n",
      "file_name is hippocampus_329.nii.gz with volume shape (34, 53, 32).\n",
      "file_name is hippocampus_330.nii.gz with volume shape (35, 55, 33).\n",
      "file_name is hippocampus_331.nii.gz with volume shape (35, 52, 33).\n",
      "file_name is hippocampus_332.nii.gz with volume shape (35, 52, 33).\n",
      "file_name is hippocampus_333.nii.gz with volume shape (33, 46, 38).\n",
      "file_name is hippocampus_334.nii.gz with volume shape (34, 47, 36).\n",
      "file_name is hippocampus_335.nii.gz with volume shape (32, 47, 41).\n",
      "file_name is hippocampus_336.nii.gz with volume shape (34, 47, 43).\n",
      "file_name is hippocampus_337.nii.gz with volume shape (33, 44, 41).\n",
      "file_name is hippocampus_338.nii.gz with volume shape (37, 43, 43).\n",
      "file_name is hippocampus_340.nii.gz with volume shape (35, 46, 38).\n",
      "file_name is hippocampus_341.nii.gz with volume shape (34, 48, 35).\n",
      "file_name is hippocampus_343.nii.gz with volume shape (32, 45, 38).\n",
      "file_name is hippocampus_345.nii.gz with volume shape (32, 49, 30).\n",
      "file_name is hippocampus_349.nii.gz with volume shape (34, 50, 34).\n",
      "file_name is hippocampus_350.nii.gz with volume shape (35, 49, 34).\n",
      "file_name is hippocampus_351.nii.gz with volume shape (35, 51, 35).\n",
      "file_name is hippocampus_352.nii.gz with volume shape (38, 51, 35).\n",
      "file_name is hippocampus_353.nii.gz with volume shape (32, 51, 31).\n",
      "file_name is hippocampus_354.nii.gz with volume shape (36, 50, 32).\n",
      "file_name is hippocampus_355.nii.gz with volume shape (33, 47, 38).\n",
      "file_name is hippocampus_356.nii.gz with volume shape (36, 51, 37).\n",
      "file_name is hippocampus_358.nii.gz with volume shape (35, 50, 34).\n",
      "file_name is hippocampus_359.nii.gz with volume shape (35, 49, 35).\n",
      "file_name is hippocampus_360.nii.gz with volume shape (34, 49, 37).\n",
      "file_name is hippocampus_361.nii.gz with volume shape (36, 50, 33).\n",
      "file_name is hippocampus_363.nii.gz with volume shape (38, 52, 35).\n",
      "file_name is hippocampus_366.nii.gz with volume shape (37, 47, 34).\n",
      "file_name is hippocampus_367.nii.gz with volume shape (36, 57, 37).\n",
      "file_name is hippocampus_368.nii.gz with volume shape (38, 55, 40).\n",
      "file_name is hippocampus_370.nii.gz with volume shape (35, 50, 36).\n",
      "file_name is hippocampus_372.nii.gz with volume shape (36, 50, 34).\n",
      "file_name is hippocampus_373.nii.gz with volume shape (34, 49, 35).\n",
      "file_name is hippocampus_374.nii.gz with volume shape (38, 48, 39).\n",
      "file_name is hippocampus_375.nii.gz with volume shape (32, 54, 34).\n",
      "file_name is hippocampus_376.nii.gz with volume shape (35, 55, 37).\n",
      "file_name is hippocampus_378.nii.gz with volume shape (35, 52, 34).\n",
      "file_name is hippocampus_380.nii.gz with volume shape (35, 46, 42).\n",
      "file_name is hippocampus_381.nii.gz with volume shape (33, 49, 37).\n",
      "file_name is hippocampus_383.nii.gz with volume shape (33, 55, 29).\n",
      "file_name is hippocampus_385.nii.gz with volume shape (35, 48, 40).\n",
      "file_name is hippocampus_386.nii.gz with volume shape (37, 45, 40).\n",
      "file_name is hippocampus_387.nii.gz with volume shape (33, 51, 32).\n",
      "file_name is hippocampus_389.nii.gz with volume shape (34, 49, 32).\n",
      "file_name is hippocampus_390.nii.gz with volume shape (38, 51, 33).\n",
      "file_name is hippocampus_393.nii.gz with volume shape (36, 51, 31).\n",
      "file_name is hippocampus_394.nii.gz with volume shape (36, 52, 32).\n"
     ]
    }
   ],
   "source": [
    "sum_shapes = []\n",
    "for i in range(len(labels)):\n",
    "    print(f\"file_name is {labels[i].split('/')[-1]} with volume shape {nib.load(labels[i]).get_fdata().shape}.\")\n",
    "    sum_shapes.append(np.sum(nib.load(labels[i]).get_fdata().shape))"
   ]
  },
  {
   "cell_type": "code",
   "execution_count": 6,
   "metadata": {},
   "outputs": [
    {
     "data": {
      "text/plain": [
       "(0.0, 20.0)"
      ]
     },
     "execution_count": 6,
     "metadata": {},
     "output_type": "execute_result"
    },
    {
     "data": {
      "image/png": "[encoded data removed]",
      "text/plain": [
       "<Figure size 864x576 with 1 Axes>"
      ]
     },
     "metadata": {
      "needs_background": "light"
     },
     "output_type": "display_data"
    }
   ],
   "source": [
    "plt.figure(figsize = (12, 8))\n",
    "_ = plt.hist(sum_shape, bins = 30)\n",
    "plt.ylim((0,20))"
   ]
  },
  {
   "cell_type": "markdown",
   "metadata": {},
   "source": [
    "#### We see that two series have spatial dimensions of 512x512 which can be considered as outliers. Lets plot them to verify."
   ]
  },
  {
   "cell_type": "code",
   "execution_count": 7,
   "metadata": {},
   "outputs": [],
   "source": [
    "outliers = ['hippocampus_281.nii.gz', 'hippocampus_010.nii.gz']"
   ]
  },
  {
   "cell_type": "code",
   "execution_count": 8,
   "metadata": {},
   "outputs": [],
   "source": [
    "im_path = os.path.join(train_path, 'images', outliers[0])\n",
    "outlier_img1 = nib.load(im_path).get_fdata()\n",
    "\n",
    "im_path = os.path.join(train_path, 'images', outliers[1])\n",
    "outlier_img2 = nib.load(im_path).get_fdata()"
   ]
  },
  {
   "cell_type": "code",
   "execution_count": 9,
   "metadata": {},
   "outputs": [
    {
     "data": {
      "text/plain": [
       "<matplotlib.image.AxesImage at 0x7f070eb82850>"
      ]
     },
     "execution_count": 9,
     "metadata": {},
     "output_type": "execute_result"
    },
    {
     "data": {
      "image/png": "[encoded data removed]",
      "text/plain": [
       "<Figure size 432x288 with 2 Axes>"
      ]
     },
     "metadata": {
      "needs_background": "light"
     },
     "output_type": "display_data"
    }
   ],
   "source": [
    "fig, axs = plt.subplots(1, 2)\n",
    "\n",
    "axs[0].imshow(outlier_img1[:, :, 20], cmap = 'gray')\n",
    "axs[1].imshow(outlier_img2[:, : , 200], cmap = 'gray')"
   ]
  },
  {
   "cell_type": "code",
   "execution_count": 10,
   "metadata": {},
   "outputs": [
    {
     "name": "stdout",
     "output_type": "stream",
     "text": [
      "Number of train images: 263\n",
      "NUmber of train labels: 262\n"
     ]
    }
   ],
   "source": [
    "print(f\"Number of train images: {len(images)}\")\n",
    "print(f\"NUmber of train labels: {len(labels)}\")"
   ]
  },
  {
   "cell_type": "code",
   "execution_count": 11,
   "metadata": {},
   "outputs": [],
   "source": [
    "hippo_nii = nib.load(os.path.join(train_path, 'images', 'hippocampus_042.nii.gz'))\n",
    "hippo_img = hippo_nii.get_fdata()"
   ]
  },
  {
   "cell_type": "code",
   "execution_count": 12,
   "metadata": {},
   "outputs": [],
   "source": [
    "l_path = os.path.join(train_path, 'labels', 'hippocampus_042.nii.gz')\n",
    "hippo_label = nib.load(l_path).get_fdata()"
   ]
  },
  {
   "cell_type": "code",
   "execution_count": 13,
   "metadata": {},
   "outputs": [
    {
     "data": {
      "text/plain": [
       "(37, 52, 34)"
      ]
     },
     "execution_count": 13,
     "metadata": {},
     "output_type": "execute_result"
    }
   ],
   "source": [
    "hippo_label.shape"
   ]
  },
  {
   "cell_type": "code",
   "execution_count": 14,
   "metadata": {},
   "outputs": [
    {
     "data": {
      "text/plain": [
       "array([0., 1., 2.])"
      ]
     },
     "execution_count": 14,
     "metadata": {},
     "output_type": "execute_result"
    }
   ],
   "source": [
    "np.unique(hippo_label)"
   ]
  },
  {
   "cell_type": "code",
   "execution_count": 15,
   "metadata": {},
   "outputs": [
    {
     "data": {
      "image/png": "[encoded data removed]",
      "text/plain": [
       "<Figure size 864x576 with 6 Axes>"
      ]
     },
     "metadata": {
      "needs_background": "light"
     },
     "output_type": "display_data"
    }
   ],
   "source": [
    "# Nibabel can present your image data as a Numpy array by calling the method get_fdata()\n",
    "# The array will contain a multi-dimensional Numpy array with numerical values representing voxel intensities. \n",
    "# In our case, images and labels are 3-dimensional, so get_fdata will return a 3-dimensional array. You can verify this\n",
    "# by accessing the .shape attribute. What are the dimensions of the input arrays?\n",
    "\n",
    "# TASK: using matplotlib, visualize a few slices from the dataset, along with their labels. \n",
    "# You can adjust plot sizes like so if you find them too small:\n",
    "#plt.rcParams[\"figure.figsize\"] = (10,10)\n",
    "def show_image_label(img, lbl):\n",
    "    \n",
    "    fig, axs = plt.subplots(2, 3)\n",
    "    \n",
    "    fig.set_figwidth(12)\n",
    "    fig.set_figheight(8)\n",
    "    \n",
    "    axs[0, 0].imshow(np.fliplr(np.rot90(img[17 ,: , :])), cmap = 'gray')\n",
    "    axs[0, 0].set_title('Sagittal')\n",
    "    \n",
    "    axs[0, 1].imshow(np.fliplr(np.rot90(img[: ,17 , :])), cmap = 'gray')\n",
    "    axs[0, 1].set_title('Coronal')\n",
    "    \n",
    "    axs[0, 2].imshow(np.fliplr(np.rot90(img[: , :, 17])), cmap = 'gray')\n",
    "    axs[0, 2].set_title('Axial')\n",
    "    \n",
    "    axs[1, 0].imshow(np.fliplr(np.rot90(lbl[17 , :, :])), cmap = 'gray')\n",
    "    \n",
    "    axs[1, 1].imshow(np.fliplr(np.rot90(lbl[: ,17 , :])), cmap = 'gray')\n",
    "    \n",
    "    axs[1, 2].imshow(np.fliplr(np.rot90(lbl[: , :, 17])), cmap = 'gray')\n",
    "    \n",
    "show_image_label(hippo_img, hippo_label)"
   ]
  },
  {
   "cell_type": "markdown",
   "metadata": {},
   "source": [
    "Load volume into 3D Slicer to validate that your visualization is correct and get a feel for the shape of structures.Try to get a visualization like the one below (hint: while Slicer documentation is not particularly great, there are plenty of YouTube videos available! Just look it up on YouTube if you are not sure how to do something)\n",
    "\n",
    "![3D slicer](img/Slicer.png)"
   ]
  },
  {
   "cell_type": "code",
   "execution_count": 16,
   "metadata": {},
   "outputs": [],
   "source": [
    "# Stand out suggestion: use one of the simple Volume Rendering algorithms that we've\n",
    "# implemented in one of our earlier lessons to visualize some of these volumes"
   ]
  },
  {
   "cell_type": "markdown",
   "metadata": {},
   "source": [
    "## Looking at single image data\n",
    "In this section we will look closer at the NIFTI representation of our volumes. In order to measure the physical volume of hippocampi, we need to understand the relationship between the sizes of our voxels and the physical world."
   ]
  },
  {
   "cell_type": "code",
   "execution_count": 17,
   "metadata": {
    "scrolled": true
   },
   "outputs": [
    {
     "data": {
      "text/plain": [
       "nibabel.nifti1.Nifti1Header"
      ]
     },
     "execution_count": 17,
     "metadata": {},
     "output_type": "execute_result"
    }
   ],
   "source": [
    "# Nibabel supports many imaging formats, NIFTI being just one of them. I told you that our images \n",
    "# are in NIFTI, but you should confirm if this is indeed the format that we are dealing with\n",
    "# TASK: using .header_class attribute - what is the format of our images?\n",
    "hippo_nii.header_class"
   ]
  },
  {
   "cell_type": "markdown",
   "metadata": {},
   "source": [
    "Further down we will be inspecting .header attribute that provides access to NIFTI metadata. You can use this resource as a reference for various fields: https://brainder.org/2012/09/23/the-nifti-file-format/"
   ]
  },
  {
   "cell_type": "code",
   "execution_count": 18,
   "metadata": {},
   "outputs": [
    {
     "data": {
      "text/plain": [
       "array(32, dtype=int16)"
      ]
     },
     "execution_count": 18,
     "metadata": {},
     "output_type": "execute_result"
    }
   ],
   "source": [
    "# TASK: How many bits per pixel are used?\n",
    "hippo_nii.header['bitpix']"
   ]
  },
  {
   "cell_type": "markdown",
   "metadata": {},
   "source": [
    "**Answer:** 32 bits per pixel"
   ]
  },
  {
   "cell_type": "code",
   "execution_count": 19,
   "metadata": {},
   "outputs": [
    {
     "data": {
      "text/plain": [
       "array(10, dtype=uint8)"
      ]
     },
     "execution_count": 19,
     "metadata": {},
     "output_type": "execute_result"
    }
   ],
   "source": [
    "# TASK: What are the units of measurement?\n",
    "hippo_nii.header['xyzt_units']"
   ]
  },
  {
   "cell_type": "code",
   "execution_count": 20,
   "metadata": {},
   "outputs": [
    {
     "data": {
      "text/plain": [
       "('mm', 'sec')"
      ]
     },
     "execution_count": 20,
     "metadata": {},
     "output_type": "execute_result"
    }
   ],
   "source": [
    "hippo_nii.header.get_xyzt_units()"
   ]
  },
  {
   "cell_type": "markdown",
   "metadata": {},
   "source": [
    "**Answer**: The spatial dimensions are in Millimeter (mm) and temporal dimension in seconds (s)."
   ]
  },
  {
   "cell_type": "code",
   "execution_count": 21,
   "metadata": {},
   "outputs": [
    {
     "data": {
      "text/plain": [
       "array([1., 1., 1., 1., 1., 0., 0., 0.], dtype=float32)"
      ]
     },
     "execution_count": 21,
     "metadata": {},
     "output_type": "execute_result"
    }
   ],
   "source": [
    "# TASK: Do we have a regular grid? What are grid spacings?\n",
    "hippo_nii.header['pixdim']"
   ]
  },
  {
   "cell_type": "markdown",
   "metadata": {},
   "source": [
    "**Answer** We do have a regular grid. The pixel spacing is 1mm and slice thickness is also 1mm."
   ]
  },
  {
   "cell_type": "markdown",
   "metadata": {},
   "source": [
    "#### TASK: What dimensions represent axial, sagittal, and coronal slices? How do you know?\n",
    "\n",
    "Using 3D slicer and thereafter plotting slices, I found that \n",
    "- 0 axis is **sagittal**\n",
    "- 1 axis is **coronal**\n",
    "* 2 axis is **axial**"
   ]
  },
  {
   "cell_type": "code",
   "execution_count": 22,
   "metadata": {},
   "outputs": [],
   "source": [
    "# By now you should have enough information to decide what are dimensions of a single voxel\n",
    "# TASK: Compute the volume (in mm³) of a hippocampus using one of the labels you've loaded. \n",
    "# You should get a number between ~2200 and ~4500"
   ]
  },
  {
   "cell_type": "code",
   "execution_count": 23,
   "metadata": {},
   "outputs": [
    {
     "name": "stdout",
     "output_type": "stream",
     "text": [
      "Volume of hippocampus: 3847 mm³\n"
     ]
    }
   ],
   "source": [
    "print(f\"Volume of hippocampus: {np.sum(hippo_label > 0)} mm\\u00b3\")"
   ]
  },
  {
   "cell_type": "markdown",
   "metadata": {},
   "source": [
    "## Plotting some charts"
   ]
  },
  {
   "cell_type": "code",
   "execution_count": 24,
   "metadata": {},
   "outputs": [
    {
     "data": {
      "text/plain": [
       "{'hippocampus_001.nii.gz': 2948,\n",
       " 'hippocampus_003.nii.gz': 3353,\n",
       " 'hippocampus_004.nii.gz': 3698,\n",
       " 'hippocampus_006.nii.gz': 4263,\n",
       " 'hippocampus_007.nii.gz': 3372,\n",
       " 'hippocampus_008.nii.gz': 3248,\n",
       " 'hippocampus_010.nii.gz': 3456,\n",
       " 'hippocampus_011.nii.gz': 3456,\n",
       " 'hippocampus_014.nii.gz': 3622,\n",
       " 'hippocampus_015.nii.gz': 2819,\n",
       " 'hippocampus_017.nii.gz': 3478,\n",
       " 'hippocampus_019.nii.gz': 3356,\n",
       " 'hippocampus_020.nii.gz': 3611,\n",
       " 'hippocampus_023.nii.gz': 3568,\n",
       " 'hippocampus_024.nii.gz': 4030,\n",
       " 'hippocampus_025.nii.gz': 3326,\n",
       " 'hippocampus_026.nii.gz': 3628,\n",
       " 'hippocampus_033.nii.gz': 3423,\n",
       " 'hippocampus_034.nii.gz': 3375,\n",
       " 'hippocampus_035.nii.gz': 3450,\n",
       " 'hippocampus_036.nii.gz': 3509,\n",
       " 'hippocampus_037.nii.gz': 3195,\n",
       " 'hippocampus_038.nii.gz': 3558,\n",
       " 'hippocampus_039.nii.gz': 3658,\n",
       " 'hippocampus_040.nii.gz': 3445,\n",
       " 'hippocampus_041.nii.gz': 3763,\n",
       " 'hippocampus_042.nii.gz': 3847,\n",
       " 'hippocampus_044.nii.gz': 3220,\n",
       " 'hippocampus_045.nii.gz': 2868,\n",
       " 'hippocampus_046.nii.gz': 3292,\n",
       " 'hippocampus_048.nii.gz': 3272,\n",
       " 'hippocampus_049.nii.gz': 3728,\n",
       " 'hippocampus_050.nii.gz': 3831,\n",
       " 'hippocampus_051.nii.gz': 3109,\n",
       " 'hippocampus_052.nii.gz': 3361,\n",
       " 'hippocampus_053.nii.gz': 3519,\n",
       " 'hippocampus_056.nii.gz': 3733,\n",
       " 'hippocampus_057.nii.gz': 2773,\n",
       " 'hippocampus_058.nii.gz': 3127,\n",
       " 'hippocampus_060.nii.gz': 3409,\n",
       " 'hippocampus_064.nii.gz': 3660,\n",
       " 'hippocampus_065.nii.gz': 3650,\n",
       " 'hippocampus_067.nii.gz': 2811,\n",
       " 'hippocampus_068.nii.gz': 3000,\n",
       " 'hippocampus_070.nii.gz': 3450,\n",
       " 'hippocampus_074.nii.gz': 3000,\n",
       " 'hippocampus_075.nii.gz': 3048,\n",
       " 'hippocampus_077.nii.gz': 3718,\n",
       " 'hippocampus_083.nii.gz': 3371,\n",
       " 'hippocampus_084.nii.gz': 3150,\n",
       " 'hippocampus_087.nii.gz': 3707,\n",
       " 'hippocampus_088.nii.gz': 3878,\n",
       " 'hippocampus_089.nii.gz': 3686,\n",
       " 'hippocampus_090.nii.gz': 4001,\n",
       " 'hippocampus_091.nii.gz': 3061,\n",
       " 'hippocampus_092.nii.gz': 3142,\n",
       " 'hippocampus_093.nii.gz': 3742,\n",
       " 'hippocampus_094.nii.gz': 4029,\n",
       " 'hippocampus_095.nii.gz': 3785,\n",
       " 'hippocampus_096.nii.gz': 3340,\n",
       " 'hippocampus_097.nii.gz': 2753,\n",
       " 'hippocampus_098.nii.gz': 2890,\n",
       " 'hippocampus_099.nii.gz': 2535,\n",
       " 'hippocampus_101.nii.gz': 3594,\n",
       " 'hippocampus_102.nii.gz': 3955,\n",
       " 'hippocampus_104.nii.gz': 3817,\n",
       " 'hippocampus_105.nii.gz': 3160,\n",
       " 'hippocampus_106.nii.gz': 3092,\n",
       " 'hippocampus_107.nii.gz': 3946,\n",
       " 'hippocampus_108.nii.gz': 3940,\n",
       " 'hippocampus_109.nii.gz': 3219,\n",
       " 'hippocampus_114.nii.gz': 3704,\n",
       " 'hippocampus_123.nii.gz': 3229,\n",
       " 'hippocampus_124.nii.gz': 3137,\n",
       " 'hippocampus_125.nii.gz': 2726,\n",
       " 'hippocampus_126.nii.gz': 3145,\n",
       " 'hippocampus_127.nii.gz': 3749,\n",
       " 'hippocampus_130.nii.gz': 3285,\n",
       " 'hippocampus_132.nii.gz': 3251,\n",
       " 'hippocampus_133.nii.gz': 3409,\n",
       " 'hippocampus_135.nii.gz': 2629,\n",
       " 'hippocampus_136.nii.gz': 2813,\n",
       " 'hippocampus_138.nii.gz': 2534,\n",
       " 'hippocampus_141.nii.gz': 2714,\n",
       " 'hippocampus_142.nii.gz': 2697,\n",
       " 'hippocampus_143.nii.gz': 2397,\n",
       " 'hippocampus_144.nii.gz': 2471,\n",
       " 'hippocampus_145.nii.gz': 3536,\n",
       " 'hippocampus_146.nii.gz': 3522,\n",
       " 'hippocampus_148.nii.gz': 2945,\n",
       " 'hippocampus_149.nii.gz': 3143,\n",
       " 'hippocampus_150.nii.gz': 3088,\n",
       " 'hippocampus_152.nii.gz': 3994,\n",
       " 'hippocampus_154.nii.gz': 3257,\n",
       " 'hippocampus_155.nii.gz': 3555,\n",
       " 'hippocampus_156.nii.gz': 3600,\n",
       " 'hippocampus_157.nii.gz': 3352,\n",
       " 'hippocampus_158.nii.gz': 3412,\n",
       " 'hippocampus_160.nii.gz': 3146,\n",
       " 'hippocampus_161.nii.gz': 3717,\n",
       " 'hippocampus_162.nii.gz': 3420,\n",
       " 'hippocampus_163.nii.gz': 3503,\n",
       " 'hippocampus_164.nii.gz': 3869,\n",
       " 'hippocampus_165.nii.gz': 3023,\n",
       " 'hippocampus_166.nii.gz': 3027,\n",
       " 'hippocampus_169.nii.gz': 2859,\n",
       " 'hippocampus_170.nii.gz': 2870,\n",
       " 'hippocampus_171.nii.gz': 3674,\n",
       " 'hippocampus_172.nii.gz': 3923,\n",
       " 'hippocampus_173.nii.gz': 3557,\n",
       " 'hippocampus_174.nii.gz': 3947,\n",
       " 'hippocampus_175.nii.gz': 2739,\n",
       " 'hippocampus_176.nii.gz': 2920,\n",
       " 'hippocampus_177.nii.gz': 2593,\n",
       " 'hippocampus_178.nii.gz': 2714,\n",
       " 'hippocampus_180.nii.gz': 2678,\n",
       " 'hippocampus_181.nii.gz': 3692,\n",
       " 'hippocampus_184.nii.gz': 3605,\n",
       " 'hippocampus_185.nii.gz': 3113,\n",
       " 'hippocampus_188.nii.gz': 3374,\n",
       " 'hippocampus_189.nii.gz': 3455,\n",
       " 'hippocampus_190.nii.gz': 3309,\n",
       " 'hippocampus_193.nii.gz': 2708,\n",
       " 'hippocampus_194.nii.gz': 2894,\n",
       " 'hippocampus_195.nii.gz': 3661,\n",
       " 'hippocampus_197.nii.gz': 3377,\n",
       " 'hippocampus_199.nii.gz': 2570,\n",
       " 'hippocampus_203.nii.gz': 2827,\n",
       " 'hippocampus_204.nii.gz': 2873,\n",
       " 'hippocampus_205.nii.gz': 2704,\n",
       " 'hippocampus_207.nii.gz': 4074,\n",
       " 'hippocampus_210.nii.gz': 2995,\n",
       " 'hippocampus_212.nii.gz': 3582,\n",
       " 'hippocampus_215.nii.gz': 3333,\n",
       " 'hippocampus_216.nii.gz': 3442,\n",
       " 'hippocampus_217.nii.gz': 3102,\n",
       " 'hippocampus_219.nii.gz': 2830,\n",
       " 'hippocampus_220.nii.gz': 2930,\n",
       " 'hippocampus_221.nii.gz': 2448,\n",
       " 'hippocampus_222.nii.gz': 2684,\n",
       " 'hippocampus_223.nii.gz': 3502,\n",
       " 'hippocampus_224.nii.gz': 3820,\n",
       " 'hippocampus_225.nii.gz': 2475,\n",
       " 'hippocampus_226.nii.gz': 2546,\n",
       " 'hippocampus_227.nii.gz': 3536,\n",
       " 'hippocampus_228.nii.gz': 3671,\n",
       " 'hippocampus_229.nii.gz': 3177,\n",
       " 'hippocampus_230.nii.gz': 3165,\n",
       " 'hippocampus_231.nii.gz': 2647,\n",
       " 'hippocampus_232.nii.gz': 2863,\n",
       " 'hippocampus_233.nii.gz': 3167,\n",
       " 'hippocampus_234.nii.gz': 3216,\n",
       " 'hippocampus_235.nii.gz': 3040,\n",
       " 'hippocampus_236.nii.gz': 3089,\n",
       " 'hippocampus_238.nii.gz': 3987,\n",
       " 'hippocampus_242.nii.gz': 4383,\n",
       " 'hippocampus_243.nii.gz': 2956,\n",
       " 'hippocampus_244.nii.gz': 3208,\n",
       " 'hippocampus_245.nii.gz': 3325,\n",
       " 'hippocampus_248.nii.gz': 3438,\n",
       " 'hippocampus_249.nii.gz': 3349,\n",
       " 'hippocampus_250.nii.gz': 3431,\n",
       " 'hippocampus_251.nii.gz': 3575,\n",
       " 'hippocampus_252.nii.gz': 3575,\n",
       " 'hippocampus_253.nii.gz': 3823,\n",
       " 'hippocampus_257.nii.gz': 2863,\n",
       " 'hippocampus_259.nii.gz': 2920,\n",
       " 'hippocampus_260.nii.gz': 3097,\n",
       " 'hippocampus_261.nii.gz': 4071,\n",
       " 'hippocampus_263.nii.gz': 3534,\n",
       " 'hippocampus_264.nii.gz': 3842,\n",
       " 'hippocampus_265.nii.gz': 3109,\n",
       " 'hippocampus_268.nii.gz': 3054,\n",
       " 'hippocampus_269.nii.gz': 3439,\n",
       " 'hippocampus_274.nii.gz': 2665,\n",
       " 'hippocampus_276.nii.gz': 3643,\n",
       " 'hippocampus_277.nii.gz': 3304,\n",
       " 'hippocampus_279.nii.gz': 2382,\n",
       " 'hippocampus_280.nii.gz': 2613,\n",
       " 'hippocampus_281.nii.gz': 20702,\n",
       " 'hippocampus_282.nii.gz': 2416,\n",
       " 'hippocampus_286.nii.gz': 3172,\n",
       " 'hippocampus_287.nii.gz': 3700,\n",
       " 'hippocampus_288.nii.gz': 3845,\n",
       " 'hippocampus_289.nii.gz': 2738,\n",
       " 'hippocampus_290.nii.gz': 3167,\n",
       " 'hippocampus_292.nii.gz': 3479,\n",
       " 'hippocampus_294.nii.gz': 3248,\n",
       " 'hippocampus_295.nii.gz': 3628,\n",
       " 'hippocampus_296.nii.gz': 3918,\n",
       " 'hippocampus_297.nii.gz': 2786,\n",
       " 'hippocampus_298.nii.gz': 2857,\n",
       " 'hippocampus_299.nii.gz': 3202,\n",
       " 'hippocampus_300.nii.gz': 3404,\n",
       " 'hippocampus_301.nii.gz': 3460,\n",
       " 'hippocampus_302.nii.gz': 3856,\n",
       " 'hippocampus_303.nii.gz': 3294,\n",
       " 'hippocampus_304.nii.gz': 3536,\n",
       " 'hippocampus_305.nii.gz': 3029,\n",
       " 'hippocampus_308.nii.gz': 3654,\n",
       " 'hippocampus_309.nii.gz': 3612,\n",
       " 'hippocampus_310.nii.gz': 3773,\n",
       " 'hippocampus_311.nii.gz': 3201,\n",
       " 'hippocampus_314.nii.gz': 2943,\n",
       " 'hippocampus_316.nii.gz': 3095,\n",
       " 'hippocampus_317.nii.gz': 3285,\n",
       " 'hippocampus_318.nii.gz': 3516,\n",
       " 'hippocampus_319.nii.gz': 2422,\n",
       " 'hippocampus_320.nii.gz': 2451,\n",
       " 'hippocampus_321.nii.gz': 2950,\n",
       " 'hippocampus_322.nii.gz': 3450,\n",
       " 'hippocampus_325.nii.gz': 3834,\n",
       " 'hippocampus_326.nii.gz': 3983,\n",
       " 'hippocampus_327.nii.gz': 3643,\n",
       " 'hippocampus_328.nii.gz': 3957,\n",
       " 'hippocampus_329.nii.gz': 3675,\n",
       " 'hippocampus_330.nii.gz': 3997,\n",
       " 'hippocampus_331.nii.gz': 3194,\n",
       " 'hippocampus_332.nii.gz': 3327,\n",
       " 'hippocampus_333.nii.gz': 2635,\n",
       " 'hippocampus_334.nii.gz': 2678,\n",
       " 'hippocampus_335.nii.gz': 2532,\n",
       " 'hippocampus_336.nii.gz': 2593,\n",
       " 'hippocampus_337.nii.gz': 3253,\n",
       " 'hippocampus_338.nii.gz': 3623,\n",
       " 'hippocampus_340.nii.gz': 3210,\n",
       " 'hippocampus_341.nii.gz': 2588,\n",
       " 'hippocampus_343.nii.gz': 2618,\n",
       " 'hippocampus_345.nii.gz': 2980,\n",
       " 'hippocampus_349.nii.gz': 2590,\n",
       " 'hippocampus_350.nii.gz': 2942,\n",
       " 'hippocampus_351.nii.gz': 3724,\n",
       " 'hippocampus_352.nii.gz': 3679,\n",
       " 'hippocampus_353.nii.gz': 2755,\n",
       " 'hippocampus_354.nii.gz': 2912,\n",
       " 'hippocampus_355.nii.gz': 3335,\n",
       " 'hippocampus_356.nii.gz': 3496,\n",
       " 'hippocampus_358.nii.gz': 2887,\n",
       " 'hippocampus_359.nii.gz': 2634,\n",
       " 'hippocampus_360.nii.gz': 2931,\n",
       " 'hippocampus_361.nii.gz': 3105,\n",
       " 'hippocampus_363.nii.gz': 3506,\n",
       " 'hippocampus_366.nii.gz': 3979,\n",
       " 'hippocampus_367.nii.gz': 4151,\n",
       " 'hippocampus_368.nii.gz': 4401,\n",
       " 'hippocampus_370.nii.gz': 3398,\n",
       " 'hippocampus_372.nii.gz': 3483,\n",
       " 'hippocampus_373.nii.gz': 3689,\n",
       " 'hippocampus_374.nii.gz': 3877,\n",
       " 'hippocampus_375.nii.gz': 3222,\n",
       " 'hippocampus_376.nii.gz': 3581,\n",
       " 'hippocampus_378.nii.gz': 2757,\n",
       " 'hippocampus_380.nii.gz': 3435,\n",
       " 'hippocampus_381.nii.gz': 3152,\n",
       " 'hippocampus_383.nii.gz': 3420,\n",
       " 'hippocampus_385.nii.gz': 3397,\n",
       " 'hippocampus_386.nii.gz': 3208,\n",
       " 'hippocampus_387.nii.gz': 3080,\n",
       " 'hippocampus_389.nii.gz': 2947,\n",
       " 'hippocampus_390.nii.gz': 3252,\n",
       " 'hippocampus_393.nii.gz': 3682,\n",
       " 'hippocampus_394.nii.gz': 3814}"
      ]
     },
     "execution_count": 24,
     "metadata": {},
     "output_type": "execute_result"
    }
   ],
   "source": [
    "# TASK: Plot a histogram of all volumes that we have in our dataset and see how \n",
    "# our dataset measures against a slice of a normal population represented by the chart below.\n",
    "lbl_vol_mapping = {}\n",
    "for l in labels:\n",
    "    lbl = nib.load(l).get_fdata()\n",
    "    lbl_vol_mapping[l.split('/')[-1]] = np.sum(lbl > 0)\n",
    "lbl_vol_mapping"
   ]
  },
  {
   "cell_type": "code",
   "execution_count": 25,
   "metadata": {},
   "outputs": [
    {
     "data": {
      "image/png": "[encoded data removed]",
      "text/plain": [
       "<Figure size 432x288 with 1 Axes>"
      ]
     },
     "metadata": {
      "needs_background": "light"
     },
     "output_type": "display_data"
    }
   ],
   "source": [
    "_ = plt.hist(lbl_vol_mapping.values(), bins = 30)"
   ]
  },
  {
   "cell_type": "markdown",
   "metadata": {},
   "source": [
    "<img src=\"img/nomogram_fem_right.svg\" width=400 align=left>"
   ]
  },
  {
   "cell_type": "code",
   "execution_count": 26,
   "metadata": {},
   "outputs": [
    {
     "data": {
      "text/plain": [
       "['hippocampus_281.nii.gz', 'hippocampus_010.nii.gz']"
      ]
     },
     "execution_count": 26,
     "metadata": {},
     "output_type": "execute_result"
    }
   ],
   "source": [
    "outliers"
   ]
  },
  {
   "cell_type": "code",
   "execution_count": 27,
   "metadata": {},
   "outputs": [],
   "source": [
    "images_set = set(os.listdir(os.path.join(train_path, 'images')))\n",
    "labels_set = set(os.listdir(os.path.join(train_path, 'labels')))"
   ]
  },
  {
   "cell_type": "code",
   "execution_count": 28,
   "metadata": {},
   "outputs": [
    {
     "data": {
      "text/plain": [
       "{'hippocampus_118.nii.gz'}"
      ]
     },
     "execution_count": 28,
     "metadata": {},
     "output_type": "execute_result"
    }
   ],
   "source": [
    "images_set - labels_set"
   ]
  },
  {
   "cell_type": "markdown",
   "metadata": {},
   "source": [
    "#### We see that hippocampus_118 has missing label file, so we need to remove this series too."
   ]
  },
  {
   "cell_type": "code",
   "execution_count": 29,
   "metadata": {},
   "outputs": [
    {
     "data": {
      "text/plain": [
       "['hippocampus_281.nii.gz', 'hippocampus_010.nii.gz', 'hippocampus_118.nii.gz']"
      ]
     },
     "execution_count": 29,
     "metadata": {},
     "output_type": "execute_result"
    }
   ],
   "source": [
    "outliers.append('hippocampus_118.nii.gz')\n",
    "outliers"
   ]
  },
  {
   "cell_type": "code",
   "execution_count": 30,
   "metadata": {},
   "outputs": [],
   "source": [
    "outlier_img = nib.load(os.path.join(train_path, 'images', 'hippocampus_118.nii.gz')).get_fdata()"
   ]
  },
  {
   "cell_type": "code",
   "execution_count": 31,
   "metadata": {},
   "outputs": [
    {
     "data": {
      "text/plain": [
       "(37, 52, 33)"
      ]
     },
     "execution_count": 31,
     "metadata": {},
     "output_type": "execute_result"
    }
   ],
   "source": [
    "outlier_img.shape"
   ]
  },
  {
   "cell_type": "code",
   "execution_count": 32,
   "metadata": {},
   "outputs": [
    {
     "data": {
      "text/plain": [
       "<matplotlib.image.AxesImage at 0x7f070e85b4c0>"
      ]
     },
     "execution_count": 32,
     "metadata": {},
     "output_type": "execute_result"
    },
    {
     "data": {
      "image/png": "[encoded data removed]",
      "text/plain": [
       "<Figure size 432x288 with 1 Axes>"
      ]
     },
     "metadata": {
      "needs_background": "light"
     },
     "output_type": "display_data"
    }
   ],
   "source": [
    "plt.imshow(outlier_img[:, 25, :], cmap = 'gray')"
   ]
  },
  {
   "cell_type": "markdown",
   "metadata": {},
   "source": [
    "Do you see any outliers? Why do you think it's so (might be not immediately obvious, but it's always a good idea to inspect) outliers closer. If you haven't found the images that do not belong, the histogram may help you."
   ]
  },
  {
   "cell_type": "markdown",
   "metadata": {},
   "source": [
    "In the real world we would have precise information about the ages and conditions of our patients, and understanding how our dataset measures against population norm would be the integral part of clinical validation that we talked about in last lesson. Unfortunately, we do not have this information about this dataset, so we can only guess why it measures the way it is. If you would like to explore further, you can use the [calculator from HippoFit project](http://www.smanohar.com/biobank/calculator.html) to see how our dataset compares against different population slices"
   ]
  },
  {
   "cell_type": "markdown",
   "metadata": {},
   "source": [
    "Did you notice anything odd about the label files? We hope you did! The mask seems to have two classes, labeled with values `1` and `2` respectively. If you visualized sagittal or axial views, you might have gotten a good guess of what those are. Class 1 is the anterior segment of the hippocampus and class 2 is the posterior one. \n",
    "\n",
    "For the purpose of volume calculation we do not care about the distinction, however we will still train our network to differentiate between these two classes and the background"
   ]
  },
  {
   "cell_type": "code",
   "execution_count": 33,
   "metadata": {},
   "outputs": [],
   "source": [
    "# TASK: Copy the clean dataset to the output folder inside section1/out. You will use it in the next Section\n",
    "import shutil\n",
    "img_list = os.listdir(os.path.join(train_path, 'images'))\n",
    "\n",
    "for hippo_id in img_list:\n",
    "    if hippo_id not in outliers:\n",
    "        shutil.copy(os.path.join(train_path, 'images', hippo_id), os.path.join(\"out\", \"images\", hippo_id))\n",
    "        shutil.copy(os.path.join(train_path, 'labels', hippo_id), os.path.join(\"out\", \"labels\", hippo_id))"
   ]
  },
  {
   "cell_type": "code",
   "execution_count": 34,
   "metadata": {},
   "outputs": [
    {
     "data": {
      "text/plain": [
       "260"
      ]
     },
     "execution_count": 34,
     "metadata": {},
     "output_type": "execute_result"
    }
   ],
   "source": [
    "len(os.listdir(\"out/images\"))"
   ]
  },
  {
   "cell_type": "code",
   "execution_count": 35,
   "metadata": {},
   "outputs": [
    {
     "data": {
      "text/plain": [
       "260"
      ]
     },
     "execution_count": 35,
     "metadata": {},
     "output_type": "execute_result"
    }
   ],
   "source": [
    "len(os.listdir(\"out/labels\"))"
   ]
  },
  {
   "cell_type": "markdown",
   "metadata": {},
   "source": [
    "## Final remarks\n",
    "\n",
    "Congratulations! You have finished Section 1. \n",
    "\n",
    "In this section you have inspected a dataset of MRI scans and related segmentations, represented as NIFTI files. We have visualized some slices, and understood the layout of the data. We have inspected file headers to understand what how the image dimensions relate to the physical world and we have understood how to measure our volume. We have then inspected dataset for outliers, and have created a clean set that is ready for consumption by our ML algorithm. \n",
    "\n",
    "In the next section you will create training and testing pipelines for a UNet-based machine learning model, run and monitor the execution, and will produce test metrics. This will arm you with all you need to use the model in the clinical context and reason about its performance!"
   ]
  }
 ],
 "metadata": {
  "kernelspec": {
   "display_name": "Python 3",
   "language": "python",
   "name": "python3"
  },
  "language_info": {
   "codemirror_mode": {
    "name": "ipython",
    "version": 3
   },
   "file_extension": ".py",
   "mimetype": "text/x-python",
   "name": "python",
   "nbconvert_exporter": "python",
   "pygments_lexer": "ipython3",
   "version": "3.8.2"
  }
 },
 "nbformat": 4,
 "nbformat_minor": 2
}
